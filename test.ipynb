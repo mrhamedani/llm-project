{
 "cells": [
  {
   "cell_type": "code",
   "execution_count": 1,
   "id": "b27bb242",
   "metadata": {},
   "outputs": [
    {
     "name": "stdout",
     "output_type": "stream",
     "text": [
      "reza\n"
     ]
    }
   ],
   "source": [
    "print('reza')"
   ]
  },
  {
   "cell_type": "code",
   "execution_count": 1,
   "id": "b595af2e",
   "metadata": {},
   "outputs": [],
   "source": [
    "class A:\n",
    "    def __init__(self, x):\n",
    "        self.x = x"
   ]
  },
  {
   "cell_type": "code",
   "execution_count": 2,
   "id": "e894a830",
   "metadata": {},
   "outputs": [
    {
     "name": "stdout",
     "output_type": "stream",
     "text": [
      "<__main__.A object at 0x00000228D9012340>\n"
     ]
    }
   ],
   "source": [
    "print(A(3))"
   ]
  },
  {
   "cell_type": "code",
   "execution_count": 3,
   "id": "2a40c2a3",
   "metadata": {},
   "outputs": [
    {
     "name": "stdout",
     "output_type": "stream",
     "text": [
      "reza\n"
     ]
    }
   ],
   "source": [
    "print('reza')"
   ]
  },
  {
   "cell_type": "code",
   "execution_count": null,
   "id": "5ad57e1a",
   "metadata": {},
   "outputs": [],
   "source": []
  }
 ],
 "metadata": {
  "kernelspec": {
   "display_name": "Python (data_env)",
   "language": "python",
   "name": "data_env"
  },
  "language_info": {
   "codemirror_mode": {
    "name": "ipython",
    "version": 3
   },
   "file_extension": ".py",
   "mimetype": "text/x-python",
   "name": "python",
   "nbconvert_exporter": "python",
   "pygments_lexer": "ipython3",
   "version": "3.9.21"
  }
 },
 "nbformat": 4,
 "nbformat_minor": 5
}
